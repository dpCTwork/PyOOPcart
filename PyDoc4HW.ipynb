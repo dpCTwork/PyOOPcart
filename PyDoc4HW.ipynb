{
 "cells": [
  {
   "cell_type": "markdown",
   "metadata": {},
   "source": [
    "# Object-Oriented-Programming (OOP)"
   ]
  },
  {
   "cell_type": "markdown",
   "metadata": {},
   "source": [
    "## Tasks Today:\n",
    "\n",
    "   \n",
    "\n",
    "1) <b>Creating a Class (Initializing/Declaring)</b> <br>\n",
    "2) <b>Using a Class (Instantiating)</b> <br>\n",
    " &nbsp;&nbsp;&nbsp;&nbsp; a) Creating One Instance <br>\n",
    " &nbsp;&nbsp;&nbsp;&nbsp; b) Creating Multiple Instances <br>\n",
    " &nbsp;&nbsp;&nbsp;&nbsp; c) In-Class Exercise #1 - Create a Class 'Car' and instantiate three different makes of cars <br>\n",
    "3) <b>The \\__init\\__() Method</b> <br>\n",
    " &nbsp;&nbsp;&nbsp;&nbsp; a) The 'self' Attribute <br>\n",
    "4) <b>Class Attributes</b> <br>\n",
    " &nbsp;&nbsp;&nbsp;&nbsp; a) Initializing Attributes <br>\n",
    " &nbsp;&nbsp;&nbsp;&nbsp; b) Setting an Attribute Outside of the \\__init\\__() Method <br>\n",
    " &nbsp;&nbsp;&nbsp;&nbsp; c) Setting Defaults for Attributes <br>\n",
    " &nbsp;&nbsp;&nbsp;&nbsp; d) Accessing Class Attributes <br>\n",
    " &nbsp;&nbsp;&nbsp;&nbsp; e) Changing Class Attributes <br>\n",
    " &nbsp;&nbsp;&nbsp;&nbsp; f) In-Class Exercise #2 - Add a color and wheels attribute to your 'Car' class <br>\n",
    "5) <b>Class Methods</b> <br>\n",
    " &nbsp;&nbsp;&nbsp;&nbsp; a) Creating <br>\n",
    " &nbsp;&nbsp;&nbsp;&nbsp; b) Calling <br>\n",
    " &nbsp;&nbsp;&nbsp;&nbsp; c) Modifying an Attribute's Value Through a Method <br>\n",
    " &nbsp;&nbsp;&nbsp;&nbsp; d) Incrementing an Attribute's Value Through a Method <br>\n",
    " &nbsp;&nbsp;&nbsp;&nbsp; e) In-Class Exercise #3 - Add a method that prints the cars color and wheel number, then call them <br>\n",
    "6) <b>Inheritance</b> <br>\n",
    " &nbsp;&nbsp;&nbsp;&nbsp; a) Syntax for Inheriting from a Parent Class <br>\n",
    " &nbsp;&nbsp;&nbsp;&nbsp; b) The \\__init\\__() Method for a Child Class (super()) <br>\n",
    " &nbsp;&nbsp;&nbsp;&nbsp; c) Defining Attributes and Methods for the Child Class <br>\n",
    " &nbsp;&nbsp;&nbsp;&nbsp; d) Method Overriding <br>\n",
    " &nbsp;&nbsp;&nbsp;&nbsp; e) In-Class Exercise #4 - Create a class 'Ford' that inherits from 'Car' class and initialize it as a Blue Ford Explorer with 4 wheels using the super() method <br>\n",
    "7) <b>Classes as Attributes</b> <br>\n",
    "8) <b>Exercises</b> <br>\n",
    " &nbsp;&nbsp;&nbsp;&nbsp; a) Exercise #1 - Turn the shopping cart program from yesterday into an object-oriented program <br>"
   ]
  },
  {
   "cell_type": "markdown",
   "metadata": {},
   "source": [
    "## Creating a Class (Initializing/Declaring)\n",
    "<p>When creating a class, function, or even a variable you are initializing that object. Initializing and Declaring occur at the same time in Python, whereas in lower level languages you have to declare an object before initializing it. This is the first step in the process of using a class.</p>"
   ]
  },
  {
   "cell_type": "code",
   "execution_count": 4,
   "metadata": {},
   "outputs": [],
   "source": [
    "class Car():\n",
    "    wheels = 4\n",
    "    color = 'blue'"
   ]
  },
  {
   "cell_type": "markdown",
   "metadata": {},
   "source": [
    "## Using a Class (Instantiating)\n",
    "<p>The process of creating a class is called <i>Instantiating</i>. Each time you create a variable of that type of class, it is referred to as an <i>Instance</i> of that class. This is the second step in the process of using a class.</p>"
   ]
  },
  {
   "cell_type": "markdown",
   "metadata": {},
   "source": [
    "##### Creating One Instance"
   ]
  },
  {
   "cell_type": "code",
   "execution_count": 5,
   "metadata": {},
   "outputs": [
    {
     "name": "stdout",
     "output_type": "stream",
     "text": [
      "blue\n"
     ]
    }
   ],
   "source": [
    "# creating a variable of this class makes this an \"instance\" of this class.\n",
    "# from abstract class to a particular instantiation of class\n",
    "ford = Car()\n",
    "\n",
    "#once instantiated, we can access the attributes within the class.\n",
    "# In this case, we have the color attribute, which is set to 'blue'\n",
    "print(ford.color)"
   ]
  },
  {
   "cell_type": "markdown",
   "metadata": {},
   "source": [
    "##### Creating Multiple Instances"
   ]
  },
  {
   "cell_type": "code",
   "execution_count": 9,
   "metadata": {},
   "outputs": [
    {
     "name": "stdout",
     "output_type": "stream",
     "text": [
      "blue\n"
     ]
    }
   ],
   "source": [
    "# There can be multiple different instantiations of a particular class\n",
    "# Think the idea of dog vs particular dog(s)\n",
    "\n",
    "chevy = Car()\n",
    "honda = Car()\n",
    "porsche = Car()\n",
    "\n",
    "print(porsche.color)"
   ]
  },
  {
   "cell_type": "markdown",
   "metadata": {},
   "source": [
    "##### In-Class Exercise #1 - Create a Class 'Car' and Instantiate three different makes of cars"
   ]
  },
  {
   "cell_type": "code",
   "execution_count": 4,
   "metadata": {},
   "outputs": [
    {
     "name": "stdout",
     "output_type": "stream",
     "text": [
      "red\n",
      "red\n",
      "True\n",
      "<class 'bool'>\n"
     ]
    }
   ],
   "source": [
    "class Car():\n",
    "    doors = 4\n",
    "    color = \"red\"\n",
    "    wheels = 4\n",
    "    sunRoof = True\n",
    "    \n",
    "maz = Car()\n",
    "bently = Car()\n",
    "fer = Car()\n",
    "\n",
    "print(bently.color)\n",
    "print(maz.color)\n",
    "print(fer.sunRoof)\n",
    "print(type(fer.sunRoof))"
   ]
  },
  {
   "cell_type": "markdown",
   "metadata": {},
   "source": [
    "## Some vocab\n",
    "\n",
    "We create a class \n",
    "syntax:  \n",
    "\n",
    "`class Class():`\n",
    "\n",
    "Assigning a class to a variable instantiates the *class*\n",
    "Instantiating a class turns the class into an **object**\n",
    "\n",
    "A *Method* is a *function* within a class.\n"
   ]
  },
  {
   "cell_type": "markdown",
   "metadata": {},
   "source": [
    "## The \\__init\\__() Method <br>\n",
    "<p>This method is used in almost every created class, and called only once upon the creation of the class instance. This method will initialize all variables needed for the object.</p>"
   ]
  },
  {
   "cell_type": "code",
   "execution_count": 9,
   "metadata": {},
   "outputs": [
    {
     "name": "stdout",
     "output_type": "stream",
     "text": [
      "4\n",
      "red\n",
      "6\n",
      "black\n"
     ]
    }
   ],
   "source": [
    "class Car():\n",
    "    engine = '4.7L' # constant-attribute or, in other words, this is a global variable within the class\n",
    "    # any method in the class can call on this attribute.\n",
    "    \n",
    "    def __init__(self,wheels,color):\n",
    "        self.wheels = wheels\n",
    "        self.color = color\n",
    "        \n",
    "ford = Car(4,'red')\n",
    "chevy = Car(6, 'black')\n",
    "\n",
    "print(ford.wheels)\n",
    "print(ford.color)\n",
    "print(chevy.wheels)\n",
    "print(chevy.color)"
   ]
  },
  {
   "cell_type": "markdown",
   "metadata": {},
   "source": [
    "##### The 'self' Attribute <br>\n",
    "<p>This attribute is required to keep track of specific instance's attributes. Without the self attribute, the program would not know how to reference or keep track of an instance's attributes.</p>"
   ]
  },
  {
   "cell_type": "code",
   "execution_count": null,
   "metadata": {},
   "outputs": [],
   "source": [
    "# see above"
   ]
  },
  {
   "cell_type": "markdown",
   "metadata": {},
   "source": [
    "## Class Attributes <br>\n",
    "<p>While variables are inside of a class, they are referred to as attributes and not variables. When someone says 'attribute' you know they're speaking about a class. Attributes can be initialized through the init method, or outside of it.</p>"
   ]
  },
  {
   "cell_type": "markdown",
   "metadata": {},
   "source": [
    "##### Initializing Attributes"
   ]
  },
  {
   "cell_type": "code",
   "execution_count": 12,
   "metadata": {},
   "outputs": [],
   "source": [
    "# see above\n",
    "\n",
    "class Toy():\n",
    "    kind = \"car\" # Constant - DOES NOT CHANGE FREQUENTLY\n",
    "    \n",
    "    def __init__(self,rooftop,horn,wheels):\n",
    "        self.rooftop = rooftop\n",
    "        self.horn = horn\n",
    "        self.wheels = wheels\n",
    "        \n",
    "tanka_truck = Toy(1,1,4) # 1 rooftop, 1 horn, 4 wheels\n",
    "hotwheels_car = Toy(2, 3, 8) # 2 rooftops, 3 horns, 8 wheels"
   ]
  },
  {
   "cell_type": "markdown",
   "metadata": {},
   "source": [
    "##### Accessing Class Attributes"
   ]
  },
  {
   "cell_type": "code",
   "execution_count": 13,
   "metadata": {
    "scrolled": true
   },
   "outputs": [
    {
     "data": {
      "text/plain": [
       "1"
      ]
     },
     "execution_count": 13,
     "metadata": {},
     "output_type": "execute_result"
    }
   ],
   "source": [
    "# See Above\n",
    "tanka_truck.rooftop"
   ]
  },
  {
   "cell_type": "markdown",
   "metadata": {},
   "source": [
    "##### Setting Defaults for Attributes"
   ]
  },
  {
   "cell_type": "code",
   "execution_count": 12,
   "metadata": {},
   "outputs": [],
   "source": [
    "class Car():\n",
    "    engine = '4.7L'\n",
    "    \n",
    "    def __init__(self,wheels):\n",
    "        self.wheels = wheels\n",
    "        self.color = 'Blue' # Default Attribute\n",
    "        \n",
    "honda = Car(4)\n",
    "honda.color #outputs the default value for the attribute 'color'\n",
    "\n",
    "jeep = Car(5)"
   ]
  },
  {
   "cell_type": "markdown",
   "metadata": {},
   "source": [
    "##### Changing Class Attributes <br>\n",
    "<p>Keep in mind there are global class attributes and then there are attributes only available to each class instance which won't effect other classes.</p>"
   ]
  },
  {
   "cell_type": "code",
   "execution_count": 13,
   "metadata": {},
   "outputs": [
    {
     "name": "stdout",
     "output_type": "stream",
     "text": [
      "BEFORE CHANGE: Blue\n",
      "\n",
      " AFTER CHANGE: White\n"
     ]
    }
   ],
   "source": [
    "# Changing the Default Attribute for this example\n",
    "print(f'BEFORE CHANGE: {jeep.color}')\n",
    "\n",
    "jeep.color = 'White'\n",
    "\n",
    "print(f'\\n AFTER CHANGE: {jeep.color}')\n"
   ]
  },
  {
   "cell_type": "code",
   "execution_count": null,
   "metadata": {},
   "outputs": [],
   "source": []
  },
  {
   "cell_type": "markdown",
   "metadata": {},
   "source": [
    "##### In-Class Exercise #2 - Add a doors and seats attribute to your 'Car' class then print out two different instances with different doors and seats"
   ]
  },
  {
   "cell_type": "code",
   "execution_count": 43,
   "metadata": {},
   "outputs": [
    {
     "name": "stdout",
     "output_type": "stream",
     "text": [
      "Jeep doors: 4 and Jeep seats: 4 \n",
      "Honda doors: 2 and Honda seats: 4\n",
      "Jeep speed: 30MPH and Honda speed: 30MPH \n"
     ]
    }
   ],
   "source": [
    "# Jeep seats: 4 and Jeep doors: 4 \n",
    "# Honda seats: 2 and Honda doors: 2\n",
    "\n",
    "class Car():\n",
    "    speed = \"30MPH\"\n",
    "    \n",
    "    def __init__(self,doors,seats = 4):\n",
    "        self.doors = doors\n",
    "        self.seats = seats\n",
    "        \n",
    "jeep = Car(4,4)\n",
    "honda = Car(2)\n",
    "\n",
    "print(f\"Jeep doors: {jeep.doors} and Jeep seats: {jeep.seats} \")\n",
    "print(f\"Honda doors: {honda.doors} and Honda seats: {honda.seats}\")\n",
    "print(f\"Jeep speed: {jeep.speed} and Honda speed: {honda.speed} \")"
   ]
  },
  {
   "cell_type": "markdown",
   "metadata": {},
   "source": [
    "## Class Methods <br>\n",
    "<p>While inside of a class, functions are referred to as 'methods'. If you hear someone mention methods, they're speaking about classes. Methods are essentially functions, but only callable on the instances of a class.</p>"
   ]
  },
  {
   "cell_type": "markdown",
   "metadata": {},
   "source": [
    "##### Creating"
   ]
  },
  {
   "cell_type": "code",
   "execution_count": 40,
   "metadata": {},
   "outputs": [],
   "source": [
    "class House():\n",
    "    \n",
    "    def __init__(self,wall,dishes):\n",
    "        self.wall = wall\n",
    "        self.dishes = dishes\n",
    "        \n",
    "    def wash_dishes(self):\n",
    "        if self.dishes.lower() == 'dirty':\n",
    "            return 'Clean'\n",
    "    \n",
    "    def rock_climb_wall(self,wall):\n",
    "        if self.wall.lower() == 'yes':\n",
    "            return 'Rock on, climber!'\n",
    "        else:\n",
    "            return 'Why on earth would you not want a rock climbing wall in your house?'\n",
    "    \n",
    "\n",
    "brandon_house = House('dirty', 'yes')\n",
    "\n",
    "brandon_house.wash_dishes()\n",
    "# brandon_house.rock_climb_wall('yes')\n"
   ]
  },
  {
   "cell_type": "code",
   "execution_count": 45,
   "metadata": {},
   "outputs": [],
   "source": [
    "class ShoppingBag():\n",
    "    \"\"\"\n",
    "        The ShoppingBag Class will have handles, capacity and items\n",
    "        to place inside.\n",
    "        \n",
    "        Attributes for the class:\n",
    "        - handles: expected to be an integer\n",
    "        - capacity: expected to be a string OR an integer\n",
    "        - items: expected to be a list\n",
    "    \"\"\"\n",
    "    \n",
    "    def __init__(self,handles,capacity,items):\n",
    "        self.handles = handles\n",
    "        self.capacity = capacity\n",
    "        self.items = items\n",
    "        \n",
    "    # Method that shows the shoppingBag items\n",
    "    def showShoppingBag(self):\n",
    "        print(\"You Have items in your bag!!!\")\n",
    "        for item in self.items:\n",
    "            print(item)\n",
    "    \n",
    "    # Show capacity of shoppingBag / how much room is left\n",
    "    def showCapacity(self):\n",
    "        print(f'Your Capacity is: {self.capacity}')\n",
    "        \n",
    "    # Add Item(s) to the items list for the shoppingBag\n",
    "    def addToShoppingBag(self):\n",
    "        products = input('What would you like to add? ')\n",
    "        self.items.append(products)\n",
    "        \n",
    "    # Change the capacity of the shoppingBag (dynamically)\n",
    "    def changeBagCapacity(self, capacity):\n",
    "        self.capacity = capacity\n",
    "        \n",
    "    # Increase Capacity of the shoppingBag by 10 -- default\n",
    "    def increaseCapacity(self, changed_capacity = 10):\n",
    "        if self.capacity == isinstance(self.capacity, str):\n",
    "            print(\"We can't do that here boss...\")\n",
    "        else:\n",
    "            self.capacity += changed_capacity"
   ]
  },
  {
   "cell_type": "markdown",
   "metadata": {},
   "source": [
    "##### Calling"
   ]
  },
  {
   "cell_type": "code",
   "execution_count": 46,
   "metadata": {},
   "outputs": [
    {
     "name": "stdout",
     "output_type": "stream",
     "text": [
      "What do you want to do? add/show/ or quit: add\n",
      "What would you like to add? grapes\n",
      "What do you want to do? add/show/ or quit: add\n",
      "What would you like to add? lacroix\n",
      "What do you want to do? add/show/ or quit: add\n",
      "What would you like to add? apples\n",
      "What do you want to do? add/show/ or quit: add\n",
      "What would you like to add? books\n",
      "What do you want to do? add/show/ or quit: show\n",
      "You Have items in your bag!!!\n",
      "grapes\n",
      "lacroix\n",
      "apples\n",
      "books\n",
      "What do you want to do? add/show/ or quit: quit\n",
      "You Have items in your bag!!!\n",
      "grapes\n",
      "lacroix\n",
      "apples\n",
      "books\n",
      "Thanks for shopping\n"
     ]
    }
   ],
   "source": [
    "# See Above\n",
    "# Created and instance of the ShoppingBag Class\n",
    "wholeFoods_bag = ShoppingBag(2,10,[])\n",
    "\n",
    "# Create Function to run the 'shoppingBag()' methods on our 'wholeFoods_bag' instance.\n",
    "# shoppingBag(wholeFoods_bag)\n",
    "\n",
    "# Run func job is to run the 'shoppingbag()' methods for us. Automating the task.\n",
    "def run():\n",
    "    while True:\n",
    "        response = input('What do you want to do? add/show/ or quit: ')\n",
    "        \n",
    "        if response.lower() == 'quit':\n",
    "            wholeFoods_bag.showShoppingBag()\n",
    "            print('Thanks for shopping')\n",
    "            break\n",
    "        elif response.lower() == 'add':\n",
    "            wholeFoods_bag.addToShoppingBag()\n",
    "            \n",
    "        elif response.lower() == 'show':\n",
    "            wholeFoods_bag.showShoppingBag()\n",
    "        else:\n",
    "            print('Invalid entry. Try again.')\n",
    "            \n",
    "run()\n"
   ]
  },
  {
   "cell_type": "markdown",
   "metadata": {},
   "source": [
    "##### Modifying an Attribute's Value Through a Method"
   ]
  },
  {
   "cell_type": "code",
   "execution_count": 47,
   "metadata": {},
   "outputs": [
    {
     "name": "stdout",
     "output_type": "stream",
     "text": [
      "Your Capacity is: 10\n",
      "Capacity AFTER the change...\n",
      "Your Capacity is: 40\n"
     ]
    }
   ],
   "source": [
    "# Show Capacity\n",
    "wholeFoods_bag.showCapacity()\n",
    "print('Capacity AFTER the change...')\n",
    "wholeFoods_bag.changeBagCapacity(40)\n",
    "wholeFoods_bag.showCapacity()"
   ]
  },
  {
   "cell_type": "markdown",
   "metadata": {},
   "source": [
    "##### Incrementing an Attribute's Value Through a Method"
   ]
  },
  {
   "cell_type": "code",
   "execution_count": 49,
   "metadata": {},
   "outputs": [
    {
     "name": "stdout",
     "output_type": "stream",
     "text": [
      "Your Capacity is: 50\n",
      "After Increase\n",
      "Your Capacity is: 60\n"
     ]
    }
   ],
   "source": [
    "wholeFoods_bag.showCapacity()\n",
    "print('After Increase')\n",
    "wholeFoods_bag.increaseCapacity()\n",
    "wholeFoods_bag.showCapacity()"
   ]
  },
  {
   "cell_type": "markdown",
   "metadata": {},
   "source": [
    "##### In-Class Exercise #3 - Add a method that takes in three parameters of year, doors and seats and prints out a formatted print statement with make, model, year, seats, and doors"
   ]
  },
  {
   "cell_type": "code",
   "execution_count": 60,
   "metadata": {},
   "outputs": [
    {
     "name": "stdout",
     "output_type": "stream",
     "text": [
      "This car is a 2019 VW Jetta with 4 doors and 4 seats\n"
     ]
    }
   ],
   "source": [
    "# Create class with 2 paramters inside of the __init__ which are make and model\n",
    "\n",
    "# Inside of the Car class create a method that has 4 parameter in total (self,year,door,seats)\n",
    "\n",
    "# Output: This car is from 2019 and is a Ford Expolorer and has 4 doors and 5 seats\n",
    "\n",
    "class Car():\n",
    "    def __init__(self,make,model):\n",
    "        self.make = make\n",
    "        self.model = model\n",
    "    \n",
    "    def addDetails(self,year,doors,seats):\n",
    "        self.year = year\n",
    "        self.doors = doors\n",
    "        self.seats = seats\n",
    "        \n",
    "    def showDetails(self):\n",
    "        print(f'This car is a {self.year} {self.make} {self.model} with {self.doors} doors and {self.seats} seats')\n",
    "        \n",
    "#     def addDetails(self,year,doors,seats):\n",
    "#         self.year = year\n",
    "#         self.doors = doors\n",
    "#         self.seats = seats\n",
    "#         print(f\"This car is a {self.year} {self.make} {self.model} with {self.doors} doors and {self.seats} seats.\")\n",
    "\n",
    "    \n",
    "        \n",
    "my_car = Car('VW','Jetta')\n",
    "my_car.addDetails(2019,4,4)\n",
    "my_car.showDetails()\n"
   ]
  },
  {
   "cell_type": "markdown",
   "metadata": {},
   "source": [
    "## Inheritance <br>\n",
    "<p>You can create a child-parent relationship between two classes by using inheritance. What this allows you to do is have overriding methods, but also inherit traits from the parent class. Think of it as an actual parent and child, the child will inherit the parent's genes, as will the classes in OOP</p>"
   ]
  },
  {
   "cell_type": "markdown",
   "metadata": {},
   "source": [
    "##### Syntax for Inheriting from a Parent Class"
   ]
  },
  {
   "cell_type": "code",
   "execution_count": 63,
   "metadata": {},
   "outputs": [
    {
     "name": "stdout",
     "output_type": "stream",
     "text": [
      "Bark\n",
      "Generic Animal Sound\n",
      "9.8\n",
      "15\n"
     ]
    }
   ],
   "source": [
    "# Creation of our Parent Class -- Animal\n",
    "class Animal():\n",
    "    acceleration = 9.8\n",
    "    \n",
    "    def __init__(self,name,species,legs = 4):\n",
    "        self.name = name\n",
    "        self.species = species\n",
    "        self.legs = legs\n",
    "        \n",
    "    # Generic Parent(Animal) Method -- NO OVERRIDE YET\n",
    "    def makeSound(self):\n",
    "        sound = 'Generic Animal Sound'\n",
    "        return sound\n",
    "        \n",
    "# Creation of our Child Class -- Dog\n",
    "class Dog(Animal):\n",
    "    speed = 15\n",
    "    \n",
    "    def printInfo(self):\n",
    "        print(f\"The Dog has {self.speed}mph in speed and and acceleration of {self.acceleration}\")\n",
    "        \n",
    "\n",
    "# Creation of our Grand-Child Class -- Mutt\n",
    "class Mutt(Dog):\n",
    "    color = 'black & brown'\n",
    "    \n",
    "    # Overriding of the ANIMAL Class __init__ method (by way of using the Dog class)\n",
    "    def __init__(self, name, species, eye_color, legs = 4):\n",
    "        Dog.__init__(self,name,species,legs) \n",
    "        self.eye_color = eye_color\n",
    "        \n",
    "    # Overide the makeSound method (again coming from the ANIMAL class)\n",
    "    def makeSound(self):\n",
    "        sound = 'Bark'\n",
    "        return sound\n",
    "        \n",
    "lassie = Dog('Lassie','Dog')#leg was already defaulted to 4 in the ANIMAL class \n",
    "                            # which was inherited by the DOG class\n",
    "                            # when we created the Dog class with 'class Dog(Animal)'\n",
    "\n",
    "# The Animal class requires 2 arguments to be initialized/instantiated.\n",
    "# (self, name, species, leg = 4) 'self' is self, 'leg' is defaulted to 4, so needs 'name' and 'species'\n",
    "basic_animal = Animal('Generic Animal Name', 'Generic Animal Species')\n",
    "\n",
    "# For the Mutt class, it has an __init__ method that overrides the Animal class's\n",
    "# (self, name, species, eye_color, leg = 4) no need for self, leg default to 4\n",
    "# so needs 'name', 'species', 'eye_color'\n",
    "buster = Mutt('Buster', 'Mutt','black')\n",
    "\n",
    "print(buster.makeSound()) #buster is an instance of Mutt() class, so 'makeSound' comes out to 'Bark'\n",
    "print(basic_animal.makeSound()) #basic_animal is instance of Animal() class, so 'Generic Animal Sound'\n",
    "print(buster.acceleration)  #buster --> Mutt() class which inherits acceleration from grand-parent class\n",
    "                            # parent/grandparent --> parent --> child\n",
    "                            #       Animal()     -->  Dog() --> Mutt()\n",
    "    \n",
    "print(buster.speed) #buster Mutt() inherited 'speed' from Dog() but no 'speed' in Animal()\n"
   ]
  },
  {
   "cell_type": "markdown",
   "metadata": {},
   "source": [
    "##### The \\__init\\__() Method for a Child Class - super()"
   ]
  },
  {
   "cell_type": "code",
   "execution_count": 74,
   "metadata": {
    "scrolled": true
   },
   "outputs": [
    {
     "name": "stdout",
     "output_type": "stream",
     "text": [
      "Bark\n",
      "Generic Animal Sound\n",
      "9.8\n",
      "Help on class Puppy in module __main__:\n",
      "\n",
      "class Puppy(Dog)\n",
      " |  Puppy(name, species, eye_color, legs=4)\n",
      " |  \n",
      " |  Method resolution order:\n",
      " |      Puppy\n",
      " |      Dog\n",
      " |      Animal\n",
      " |      builtins.object\n",
      " |  \n",
      " |  Methods defined here:\n",
      " |  \n",
      " |  __init__(self, name, species, eye_color, legs=4)\n",
      " |      Initialize self.  See help(type(self)) for accurate signature.\n",
      " |  \n",
      " |  makeSound(self)\n",
      " |      # Overide the makeSound method (again coming from the ANIMAL class)\n",
      " |  \n",
      " |  ----------------------------------------------------------------------\n",
      " |  Data and other attributes defined here:\n",
      " |  \n",
      " |  color = 'black & brown'\n",
      " |  \n",
      " |  ----------------------------------------------------------------------\n",
      " |  Methods inherited from Dog:\n",
      " |  \n",
      " |  printInfo(self)\n",
      " |  \n",
      " |  ----------------------------------------------------------------------\n",
      " |  Data and other attributes inherited from Dog:\n",
      " |  \n",
      " |  speed = 15\n",
      " |  \n",
      " |  ----------------------------------------------------------------------\n",
      " |  Data descriptors inherited from Animal:\n",
      " |  \n",
      " |  __dict__\n",
      " |      dictionary for instance variables (if defined)\n",
      " |  \n",
      " |  __weakref__\n",
      " |      list of weak references to the object (if defined)\n",
      " |  \n",
      " |  ----------------------------------------------------------------------\n",
      " |  Data and other attributes inherited from Animal:\n",
      " |  \n",
      " |  acceleration = 9.8\n",
      "\n"
     ]
    }
   ],
   "source": [
    "class Puppy(Dog):\n",
    "    color = 'black & brown'\n",
    "    \n",
    "    # Overriding of the ANIMAL Class __init__ method (by way of using the Dog class)\n",
    "    # Before, in our Mutt(), we took the inherited Animal() init method with Dog() init\n",
    "    # by typing into our Mutt() init: 'Dog.__init__(etc)'\n",
    "    # Using '.super().__init__' here takes us to the top parent class (Animal())\n",
    "    # and overrides the top init with Puppy() init\n",
    "    def __init__(self, name, species, eye_color, legs = 4):\n",
    "        super().__init__(name,species,legs) \n",
    "        self.eye_color = eye_color\n",
    "        \n",
    "    # Overide the makeSound method (again coming from the ANIMAL class)\n",
    "    def makeSound(self):\n",
    "        noise = 'Bark'\n",
    "        return noise\n",
    "    \n",
    "lassie = Dog('Lassie','Dog')\n",
    "basic_animal = Animal('Generic Animal Name', 'Generic Animal Species')\n",
    "buster = Puppy('Buster', 'Mut','black')\n",
    "\n",
    "print(buster.makeSound())\n",
    "print(basic_animal.makeSound())\n",
    "print(buster.acceleration)\n",
    "\n",
    "help(Puppy)"
   ]
  },
  {
   "cell_type": "markdown",
   "metadata": {},
   "source": [
    "##### Defining Attributes and Methods for the Child Class"
   ]
  },
  {
   "cell_type": "code",
   "execution_count": null,
   "metadata": {},
   "outputs": [],
   "source": [
    "# See Above"
   ]
  },
  {
   "cell_type": "markdown",
   "metadata": {},
   "source": [
    "##### Method Overriding"
   ]
  },
  {
   "cell_type": "code",
   "execution_count": null,
   "metadata": {},
   "outputs": [],
   "source": [
    "# See Above"
   ]
  },
  {
   "cell_type": "markdown",
   "metadata": {},
   "source": [
    "## Classes as Attributes <br>\n",
    "<p>Classes can also be used as attributes within another class. This is useful in situations where you need to keep variables locally stored, instead of globally stored.</p>"
   ]
  },
  {
   "cell_type": "code",
   "execution_count": 65,
   "metadata": {},
   "outputs": [
    {
     "name": "stdout",
     "output_type": "stream",
     "text": [
      "20\n"
     ]
    },
    {
     "data": {
      "text/plain": [
       "'2019 Tesla Model X 20'"
      ]
     },
     "execution_count": 65,
     "metadata": {},
     "output_type": "execute_result"
    }
   ],
   "source": [
    "class Battery():\n",
    "    volts = 7.8\n",
    "    \n",
    "    def __init__(self, cells):\n",
    "        self.cells = cells\n",
    "        \n",
    "class Car():\n",
    "    def __init__(self,year,make,model,battery):\n",
    "        self.year = year\n",
    "        self.make = make\n",
    "        self.model = model\n",
    "        self.battery = battery\n",
    "        \n",
    "    def printInfo(self):\n",
    "        return f'{self.year} {self.make} {self.model} {self.battery.cells}' #notice self.battery.CELLS\n",
    "        # in our Car(), we require a 'battery' attribute, which we're calling \n",
    "        # from the Battery() which has 'cells' as attribute. \n",
    "        # We're calling the 'cells' attribute from the 'Battery()' class\n",
    "    \n",
    "my_battery = Battery(20)  #our battery has 20 cells\n",
    "\n",
    "telsa = Car(2019, 'Tesla', \"Model X\", my_battery) \n",
    "#my_battery carrying the 'cells' attribute from Battery(), to which we gave the value '20'\n",
    "\n",
    "print(telsa.battery.cells)\n",
    "telsa.printInfo()"
   ]
  },
  {
   "cell_type": "markdown",
   "metadata": {},
   "source": [
    "# Exercises"
   ]
  },
  {
   "cell_type": "markdown",
   "metadata": {},
   "source": [
    "### Exercise 1 - Turn the shopping cart program from yesterday into an object-oriented program\n",
    "\n",
    "The comments in the cell below are there as a guide for thinking about the problem. However, if you feel a different way is best for you and your own thought process, please do what feels best for you by all means."
   ]
  },
  {
   "cell_type": "code",
   "execution_count": 88,
   "metadata": {},
   "outputs": [
    {
     "name": "stdout",
     "output_type": "stream",
     "text": [
      "What is your name? David\n",
      "\n",
      "\n",
      "Welcome to the Shopping Cart Program, David!\n",
      "\n",
      "\n",
      "This program will allow you to add items to your shopping cart. \n",
      "---------------------------------------------------------------\n",
      "\n",
      "Type 'SHOW' or 'S' to show current items in your shopping cart\n",
      "Type 'ADD or 'A' to add an item to your cart\n",
      "Type 'DEL' or 'D' to remove an item from your cart\n",
      "OR to quit this program: Type 'QUIT' or 'Q'\n",
      "\n",
      "Please choose an option: s\n",
      "\n",
      "\n",
      "Item     :     Price\n",
      "---------------------\n",
      "---------------------\n",
      "# of items: 0\n",
      "Subtotal: $0.00\n",
      "\n",
      "\n",
      "Press 'Q' to QUIT or ANY other key to return to the main menu: \n",
      "Type 'SHOW' or 'S' to show current items in your shopping cart\n",
      "Type 'ADD or 'A' to add an item to your cart\n",
      "Type 'DEL' or 'D' to remove an item from your cart\n",
      "OR to quit this program: Type 'QUIT' or 'Q'\n",
      "\n",
      "Please choose an option: a\n",
      "\n",
      "\n",
      "Which item would you like to place in your shopping cart? apple\n",
      "Please enter the price amount in dollars and cents (ex: 0.99, 3.49, 11.55, etc.) .99\n",
      "You have successfully added Apple ($0.99)to your shopping cart!\n",
      "\n",
      "\n",
      "Would you like to add another item to your cart?\n",
      "Press 'Y' to proceed or 'N' to go to the main menu: y\n",
      "\n",
      "\n",
      "Which item would you like to place in your shopping cart? banana\n",
      "Please enter the price amount in dollars and cents (ex: x.xx) 2.99\n",
      "You have successfully added Banana ($2.99) to your shopping cart!\n",
      "\n",
      "\n",
      "Would you like to add another item to your cart?\n",
      "Press 'Y' to proceed or 'N' to go to the main menu: y\n",
      "\n",
      "\n",
      "Which item would you like to place in your shopping cart? cake\n",
      "Please enter the price amount in dollars and cents (ex: x.xx) 7\n",
      "You have successfully added Cake ($7.00) to your shopping cart!\n",
      "\n",
      "\n",
      "Would you like to add another item to your cart?\n",
      "Press 'Y' to proceed or 'N' to go to the main menu: ice cream\n",
      "INVALID ENTRY. PLEASE PRESS 'Y' OR 'N'.\n",
      "\n",
      "\n",
      "Would you like to add another item to your cart?\n",
      "Press 'Y' to proceed or 'N' to go to the main menu: 4.99\n",
      "INVALID ENTRY. PLEASE PRESS 'Y' OR 'N'.\n",
      "\n",
      "\n",
      "Would you like to add another item to your cart?\n",
      "Press 'Y' to proceed or 'N' to go to the main menu: n\n",
      "Type 'SHOW' or 'S' to show current items in your shopping cart\n",
      "Type 'ADD or 'A' to add an item to your cart\n",
      "Type 'DEL' or 'D' to remove an item from your cart\n",
      "OR to quit this program: Type 'QUIT' or 'Q'\n",
      "\n",
      "Please choose an option: s\n",
      "\n",
      "\n",
      "Item     :     Price\n",
      "---------------------\n",
      " Apple : $0.99\n",
      " Banana : $2.99\n",
      " Cake : $7.00\n",
      "---------------------\n",
      "# of items: 3\n",
      "Subtotal: $10.98\n",
      "\n",
      "\n",
      "Press 'Q' to QUIT or ANY other key to return to the main menu: \n",
      "Type 'SHOW' or 'S' to show current items in your shopping cart\n",
      "Type 'ADD or 'A' to add an item to your cart\n",
      "Type 'DEL' or 'D' to remove an item from your cart\n",
      "OR to quit this program: Type 'QUIT' or 'Q'\n",
      "\n",
      "Please choose an option: a\n",
      "\n",
      "\n",
      "Which item would you like to place in your shopping cart? ice cream\n",
      "Please enter the price amount in dollars and cents (ex: 0.99, 3.49, 11.55, etc.) 4.99\n",
      "You have successfully added Ice Cream ($4.99)to your shopping cart!\n",
      "\n",
      "\n",
      "Would you like to add another item to your cart?\n",
      "Press 'Y' to proceed or 'N' to go to the main menu: n\n",
      "Type 'SHOW' or 'S' to show current items in your shopping cart\n",
      "Type 'ADD or 'A' to add an item to your cart\n",
      "Type 'DEL' or 'D' to remove an item from your cart\n",
      "OR to quit this program: Type 'QUIT' or 'Q'\n",
      "\n",
      "Please choose an option: s\n",
      "\n",
      "\n",
      "Item     :     Price\n",
      "---------------------\n",
      " Apple : $0.99\n",
      " Banana : $2.99\n",
      " Cake : $7.00\n",
      " Ice Cream : $4.99\n",
      "---------------------\n",
      "# of items: 4\n",
      "Subtotal: $15.97\n",
      "\n",
      "\n",
      "Press 'Q' to QUIT or ANY other key to return to the main menu: d\n",
      "Type 'SHOW' or 'S' to show current items in your shopping cart\n",
      "Type 'ADD or 'A' to add an item to your cart\n",
      "Type 'DEL' or 'D' to remove an item from your cart\n",
      "OR to quit this program: Type 'QUIT' or 'Q'\n",
      "\n",
      "Please choose an option: d\n",
      "\n",
      "\n",
      "Which item would you like to remove from your cart? cake\n",
      "\n",
      "\n",
      "You have successfully removed the item 'Cake' from your cart!\n",
      "\n",
      "\n",
      "Would you like to remove another item from your cart?\n",
      "Type 'Y' to proceed or 'N' to go to the main menu: n\n",
      "Type 'SHOW' or 'S' to show current items in your shopping cart\n",
      "Type 'ADD or 'A' to add an item to your cart\n",
      "Type 'DEL' or 'D' to remove an item from your cart\n",
      "OR to quit this program: Type 'QUIT' or 'Q'\n",
      "\n",
      "Please choose an option: s\n",
      "\n",
      "\n",
      "Item     :     Price\n",
      "---------------------\n",
      " Apple : $0.99\n",
      " Banana : $2.99\n",
      " Ice Cream : $4.99\n",
      "---------------------\n",
      "# of items: 3\n",
      "Subtotal: $8.97\n",
      "\n",
      "\n",
      "Press 'Q' to QUIT or ANY other key to return to the main menu: q\n",
      "Here is your shopping cart from this session:\n",
      "---------------------------\n",
      " Apple : $0.99\n",
      " Banana : $2.99\n",
      " Ice Cream : $4.99\n",
      "---------------------------\n",
      "You have 3 items in your cart, for a subtotal of $8.97\n",
      "See you next time!\n"
     ]
    }
   ],
   "source": [
    "# Create a class called cart that retains items and has methods to add, remove, and show\n",
    "\n",
    "class Cart():\n",
    "    cart = {}\n",
    "    quit_program = False\n",
    "    desc = \"This program will allow you to add items to your shopping cart. \\n---------------------------------------------------------------\\n\"\n",
    "    main_menu = \"Type 'SHOW' or 'S' to show current items in your shopping cart\\nType 'ADD or 'A' to add an item to your cart\\nType 'DEL' or 'D' to remove an item from your cart\\nOR to quit this program: Type 'QUIT' or 'Q'\\n\"\n",
    "    \n",
    "    def __init__(self, item='', price=0):\n",
    "        self.item = item\n",
    "        self.price = price\n",
    "    \n",
    "    def greet_user(self):\n",
    "        user_name = input(\"What is your name? \")\n",
    "        print('\\n')\n",
    "        print(f'Welcome to the Shopping Cart Program, {user_name}!')\n",
    "        print('\\n')\n",
    "        print(self.desc)\n",
    "    \n",
    "    def show_instructions(self):\n",
    "        print(self.main_menu)\n",
    "    \n",
    "    def show_cart(self):\n",
    "        print('\\n')\n",
    "        print('Item     :     Price')\n",
    "        print('---------------------')\n",
    "        for k,v in self.cart.items():\n",
    "            print(f\" {k} : ${v:.2f}\")\n",
    "        print('---------------------')\n",
    "        print(f\"# of items: {len(self.cart.keys())}\")\n",
    "        print(f\"Subtotal: ${(sum(self.cart.values())):.2f}\")\n",
    "        print('\\n')\n",
    "\n",
    "    def instructions_add(self, cart):\n",
    "        while True:\n",
    "            print(\"Would you like to add another item to your cart?\")\n",
    "            add_or_nah = input(\"Press 'Y' to proceed or 'N' to go to the main menu: \")\n",
    "            if add_or_nah.lower() == 'y':\n",
    "                print('\\n')\n",
    "                item = input(\"Which item would you like to place in your shopping cart? \")\n",
    "                price = float(input(\"Please enter the price amount in dollars and cents (ex: x.xx) \"))\n",
    "                cart[item.title()] = price\n",
    "                print(f\"You have successfully added {item.title()} (${price:.2f}) to your shopping cart!\")\n",
    "                print('\\n')\n",
    "                continue\n",
    "            elif add_or_nah.lower() == 'n':\n",
    "                break\n",
    "            else:\n",
    "                print(\"INVALID ENTRY. PLEASE PRESS 'Y' OR 'N'.\")\n",
    "                print('\\n')\n",
    "                continue\n",
    "    \n",
    "    def instructions_del(self, cart):\n",
    "        while True:\n",
    "            print(\"Would you like to remove another item from your cart?\")\n",
    "            del_or_nah = input(\"Type 'Y' to proceed or 'N' to go to the main menu: \")\n",
    "            if del_or_nah.lower() == 'y':\n",
    "                print('\\n')\n",
    "                item = input(\"Which item would you like to remove from your shopping cart? \")\n",
    "                if item.title() in cart:\n",
    "                    del cart[item.title()]\n",
    "                    print('\\n')\n",
    "                    print(f'You have successfully removed {item.title()} from your cart!')\n",
    "                    print('\\n')\n",
    "                    continue\n",
    "                else:\n",
    "                    print('\\n')\n",
    "                    print(\"You do not have this item in your cart. Please check your spelling and try again\")\n",
    "                    print('\\n')\n",
    "                    continue        \n",
    "            elif del_or_nah.lower() == 'n':\n",
    "                break\n",
    "            else:\n",
    "                print(\"INVALID ENTRY. PLEASE PRESS 'Y' OR 'N'.\")\n",
    "                print('\\n')\n",
    "                continue\n",
    "\n",
    "    def run(self):\n",
    "        self.greet_user()\n",
    "        while True:\n",
    "            self.show_instructions()\n",
    "            user_choice = input(\"Please choose an option: \")\n",
    "            while True:    \n",
    "                if user_choice.lower() == 'show' or user_choice.lower() == 's':\n",
    "                    self.show_cart()\n",
    "                    next_step = input(\"Press 'Q' to QUIT or ANY other key to return to the main menu: \")\n",
    "                    if next_step.lower() == 'q':\n",
    "                        self.quit_program = True\n",
    "                        break\n",
    "                    else:\n",
    "                        break\n",
    "                elif user_choice.lower() == 'add' or user_choice.lower() == 'a':\n",
    "                    print('\\n')\n",
    "                    item = input(\"Which item would you like to place in your shopping cart? \")\n",
    "                    price = float(input(\"Please enter the price amount in dollars and cents (ex: 0.99, 3.49, 11.55, etc.) \"))\n",
    "                    self.cart[item.title()] = price\n",
    "                    print(f\"You have successfully added {item.title()} (${price:.2f})to your shopping cart!\")\n",
    "                    print('\\n')\n",
    "                    self.instructions_add(self.cart)\n",
    "                    break\n",
    "                elif user_choice.lower() == 'del' or user_choice.lower() == 'd':\n",
    "                    print('\\n')\n",
    "                    item = input('Which item would you like to remove from your cart? ')\n",
    "                    del self.cart[item.title()]\n",
    "                    print('\\n')\n",
    "                    print(f\"You have successfully removed the item '{item.title()}' from your cart!\")\n",
    "                    print('\\n')\n",
    "                    self.instructions_del(self.cart)\n",
    "                    break\n",
    "                elif user_choice.lower() == 'quit' or user_choice.lower() == 'q':\n",
    "                    self.quit_program = True\n",
    "                    break\n",
    "                else:\n",
    "                    print(\"You have entered an invalid entry.\")\n",
    "                    print('\\n')\n",
    "                    continue\n",
    "            if self.quit_program:\n",
    "                print('Here is your shopping cart from this session:')\n",
    "                print('---------------------------')\n",
    "                for k,v in self.cart.items():\n",
    "                    print(f\" {k} : ${v:.2f}\")\n",
    "                print('---------------------------')\n",
    "                print(f\"You have {len(self.cart.keys())} items in your cart, for a subtotal of ${sum(self.cart.values()):.2f}\")\n",
    "                print('See you next time!')\n",
    "                break\n",
    "\n",
    "shop_cart = Cart()\n",
    "shop_cart.run()\n",
    "\n",
    "    "
   ]
  },
  {
   "cell_type": "markdown",
   "metadata": {},
   "source": [
    "### Exercise 2 - Write a Python class which has two methods get_String and print_String. get_String accept a string from the user and print_String print the string in upper case"
   ]
  },
  {
   "cell_type": "code",
   "execution_count": 87,
   "metadata": {},
   "outputs": [
    {
     "name": "stdout",
     "output_type": "stream",
     "text": [
      "Here's your string in all caps: YOU DIDN'T ENTER ANYTHING. GIVE ME A STRING!\n",
      "Here's your string in all caps: HELLO WORLD!\n",
      "Enter a string here: this is the string i entered in my get_string method\n",
      "Here's your string in all caps: THIS IS THE STRING I ENTERED IN MY GET_STRING METHOD\n"
     ]
    }
   ],
   "source": [
    "class StrUpperMaker():\n",
    "    \n",
    "    def __init__(self,string=\"you didn't enter anything. give me a string!\"):\n",
    "        self.string = string\n",
    "        \n",
    "    def get_string(self):\n",
    "        self.string = input('Enter a string here: ')\n",
    "        return self.string\n",
    "    \n",
    "    def print_string(self):\n",
    "        print(f\"Here's your string in all caps: {self.string.upper()}\")\n",
    "\n",
    "upperstr = StrUpperMaker()\n",
    "upperstr.print_string()\n",
    "\n",
    "upperstr = StrUpperMaker('hello world!')\n",
    "upperstr.print_string()\n",
    "\n",
    "upperstr.get_string()\n",
    "upperstr.print_string()\n"
   ]
  }
 ],
 "metadata": {
  "kernelspec": {
   "display_name": "Python 3 (ipykernel)",
   "language": "python",
   "name": "python3"
  },
  "language_info": {
   "codemirror_mode": {
    "name": "ipython",
    "version": 3
   },
   "file_extension": ".py",
   "mimetype": "text/x-python",
   "name": "python",
   "nbconvert_exporter": "python",
   "pygments_lexer": "ipython3",
   "version": "3.9.13"
  }
 },
 "nbformat": 4,
 "nbformat_minor": 2
}
